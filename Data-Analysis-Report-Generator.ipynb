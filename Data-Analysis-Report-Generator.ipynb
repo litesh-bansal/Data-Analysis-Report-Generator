{
  "nbformat": 4,
  "nbformat_minor": 0,
  "metadata": {
    "colab": {
      "provenance": []
    },
    "kernelspec": {
      "name": "python3",
      "display_name": "Python 3"
    },
    "language_info": {
      "name": "python"
    }
  },
  "cells": [
    {
      "cell_type": "code",
      "source": [
        "!pip install fpdf"
      ],
      "metadata": {
        "colab": {
          "base_uri": "https://localhost:8080/"
        },
        "collapsed": true,
        "id": "5sVTG-YNLmIm",
        "outputId": "818bd01a-94e1-4bad-d62c-3704c0713731"
      },
      "execution_count": 19,
      "outputs": [
        {
          "output_type": "stream",
          "name": "stdout",
          "text": [
            "Requirement already satisfied: fpdf in /usr/local/lib/python3.10/dist-packages (1.7.2)\n"
          ]
        }
      ]
    },
    {
      "cell_type": "markdown",
      "source": [
        "# Importing required libraries\n"
      ],
      "metadata": {
        "id": "vMNCa9qQLxIi"
      }
    },
    {
      "cell_type": "code",
      "source": [
        "\n",
        "import pandas as pd\n",
        "import numpy as np\n",
        "import matplotlib.pyplot as plt\n",
        "import seaborn as sns\n",
        "from fpdf import FPDF"
      ],
      "metadata": {
        "id": "cNIDcOTOKrO-"
      },
      "execution_count": 20,
      "outputs": []
    },
    {
      "cell_type": "markdown",
      "source": [
        "# Function to perform following task\n",
        "1.   Listing all the columns with missing values\n",
        "2.   Categorize the columns based on their data type and print.\n",
        "3.   List all columns with duplicates a)Remove them b)Print before and after.\n",
        "4.   List the constant columns a)Remove them b)Print before and after\n",
        "5.   Create box plot to visualise the outlier of all the numeric columns\n",
        "5.   Create charts for any 6 columns and show their distribution\n",
        "\n",
        "\n",
        "\n",
        "\n",
        "\n"
      ],
      "metadata": {
        "id": "o0tAewGKL4xq"
      }
    },
    {
      "cell_type": "code",
      "source": [
        "class PDFReport(FPDF):\n",
        "    def header(self):\n",
        "        self.set_font(\"Arial\", style=\"B\", size=12)\n",
        "        self.cell(0, 10, \"Data Analysis Report\", align=\"C\", ln=True)\n",
        "        self.ln(5)\n",
        "\n",
        "    def footer(self):\n",
        "        self.set_y(-15)\n",
        "        self.set_font(\"Arial\", size=8)\n",
        "        self.cell(0, 10, f\"Page {self.page_no()}\", align=\"C\")\n",
        "\n",
        "def gennerate_report(data_path, output_file):\n",
        "    # Load dataset\n",
        "\n",
        "    df = pd.read_csv(data_path)\n",
        "\n",
        "    # Initialize PDF\n",
        "\n",
        "    pdf = PDFReport()\n",
        "    pdf.set_auto_page_break(auto=True, margin=15)\n",
        "    pdf.add_page()\n",
        "    pdf.set_font(\"Arial\", size=12)\n",
        "\n",
        "    # Section 1: Columns with Missing Values\n",
        "\n",
        "    pdf.set_font(\"Arial\", style=\"B\", size=12)\n",
        "    pdf.cell(0, 10, \"1. Columns with Missing Values\", ln=True)\n",
        "    pdf.set_font(\"Arial\", size=10)\n",
        "    missing_values = df.isnull().sum()\n",
        "    missing_columns = missing_values[missing_values > 0]\n",
        "    if not missing_columns.empty:\n",
        "        for col, val in missing_columns.items():\n",
        "            pdf.cell(0, 10, f\"{col}: {val} missing values\", ln=True)\n",
        "    else:\n",
        "        pdf.cell(0, 10, \"No missing values found.\", ln=True)\n",
        "    pdf.ln(10)\n",
        "\n",
        "    # Section 2: Categorized Columns\n",
        "\n",
        "    pdf.set_font(\"Arial\", style=\"B\", size=12)\n",
        "    pdf.cell(0, 10, \"2. Categorized Columns\", ln=True)\n",
        "    pdf.set_font(\"Arial\", size=10)\n",
        "    numerical_columns = df.select_dtypes(include=['int64', 'float64']).columns.tolist()\n",
        "    categorical_columns = df.select_dtypes(include=['object']).columns.tolist()\n",
        "    pdf.cell(0, 10, \"Numerical Columns:\", ln=True)\n",
        "    pdf.multi_cell(0, 10, \", \".join(numerical_columns) if numerical_columns else \"None\")\n",
        "    pdf.cell(0, 10, \"Categorical Columns:\", ln=True)\n",
        "    pdf.multi_cell(0, 10, \", \".join(categorical_columns) if categorical_columns else \"None\")\n",
        "    pdf.ln(10)\n",
        "\n",
        "    # Section 3: Columns with Duplicates\n",
        "\n",
        "    duplicate_columns = df.T[df.T.duplicated()].index.tolist()\n",
        "    pdf.set_font(\"Arial\", style=\"B\", size=12)\n",
        "    pdf.cell(0, 10, \"3. Columns with Duplicates\", ln=True)\n",
        "    pdf.set_font(\"Arial\", size=10)\n",
        "    if duplicate_columns:\n",
        "        pdf.cell(0, 10, f\"Before Removal: {', '.join(duplicate_columns)}\", ln=True)\n",
        "        df = df.loc[:, ~df.columns.duplicated()]\n",
        "        pdf.cell(0, 10, f\"After Removal: {', '.join(df.columns)}\", ln=True)\n",
        "    else:\n",
        "        pdf.cell(0, 10, \"No duplicate columns found.\", ln=True)\n",
        "    pdf.ln(10)\n",
        "\n",
        "    # Section 4: Constant Columns\n",
        "\n",
        "    constant_columns = [col for col in df.columns if df[col].nunique() == 1]\n",
        "    pdf.set_font(\"Arial\", style=\"B\", size=12)\n",
        "    pdf.cell(0, 10, \"4. Constant Columns\", ln=True)\n",
        "    pdf.set_font(\"Arial\", size=10)\n",
        "    if constant_columns:\n",
        "        pdf.cell(0, 10, f\"Before Removal: {', '.join(constant_columns)}\", ln=True)\n",
        "        df.drop(columns=constant_columns, inplace=True)\n",
        "        pdf.cell(0, 10, f\"After Removal: {', '.join(df.columns)}\", ln=True)\n",
        "    else:\n",
        "        pdf.cell(0, 10, \"No constant columns found.\", ln=True)\n",
        "    pdf.ln(10)\n",
        "\n",
        "    numerical_columns = df.select_dtypes(include=['int64', 'float64']).columns.tolist()\n",
        "    pdf.add_page()\n",
        "\n",
        "    # Section 5: Boxplots for Numerical Columns\n",
        "    pdf.set_font(\"Arial\", style=\"B\", size=12)\n",
        "    pdf.cell(0, 10, \"5. Boxplots for Numerical Columns\", ln=True)\n",
        "    pdf.set_font(\"Arial\", size=10)\n",
        "    for col in numerical_columns:\n",
        "\n",
        "        plt.figure(figsize=(6, 4))\n",
        "        sns.boxplot(x=df[col])\n",
        "        plt.title(f\"Boxplot of {col}\")\n",
        "        plt.tight_layout()\n",
        "        image_path = f\"boxplot_{col}.png\"\n",
        "        plt.savefig(image_path)\n",
        "        plt.close()\n",
        "        pdf.cell(0, 10, f\"Boxplot for {col}:\", ln=True)\n",
        "        pdf.image(image_path, x=15, y=pdf.get_y(), w=170)\n",
        "        pdf.ln(65)\n",
        "        pdf.add_page()\n",
        "\n",
        "    # Section 6: Charts for 6 Random Columns\n",
        "\n",
        "    pdf.set_font(\"Arial\", style=\"B\", size=12)\n",
        "    pdf.cell(0, 10, \"6. Charts for 6 Random Columns\", ln=True)\n",
        "    sample_columns = df.sample(n=min(6, len(df.columns)), axis=1).columns\n",
        "    for col in sample_columns:\n",
        "\n",
        "        plt.figure(figsize=(6, 4))\n",
        "        if col in numerical_columns:\n",
        "            sns.histplot(data=df, x=col, kde=True)\n",
        "        else:\n",
        "            sns.countplot(data=df, x=col)\n",
        "        plt.title(f\"Distribution of {col}\")\n",
        "        plt.tight_layout()\n",
        "        image_path = f\"distribution_{col}.png\"\n",
        "        plt.savefig(image_path)\n",
        "        plt.close()\n",
        "        pdf.cell(0, 10,  ln=True)\n",
        "        pdf.image(image_path, x=15, y=pdf.get_y(), w=170)\n",
        "        pdf.ln(65)\n",
        "        pdf.add_page()\n",
        "\n",
        "    # Save PDF\n",
        "    pdf.output(output_file)\n",
        "    print(f\"Report generated: {output_file}\")\n",
        "\n"
      ],
      "metadata": {
        "id": "n5otCAiHiqcQ"
      },
      "execution_count": 37,
      "outputs": []
    },
    {
      "cell_type": "markdown",
      "source": [
        "# Provide the input data path"
      ],
      "metadata": {
        "id": "Q5usHHpOr1gF"
      }
    },
    {
      "cell_type": "code",
      "source": [
        "# @title add path to input data file and name of report\n",
        "\n",
        "data_path = 'DS_Python_Assignment.csv' #@param {type:\"string\"}\n",
        "output_file = 'data_analysis.pdf' #@param {type:\"string\"}\n",
        "gennerate_report(data_path, output_file)"
      ],
      "metadata": {
        "colab": {
          "base_uri": "https://localhost:8080/"
        },
        "id": "UgCGqxLTSS-Z",
        "outputId": "576fea91-9a8b-4506-a50c-9a6c62aed99a"
      },
      "execution_count": 39,
      "outputs": [
        {
          "output_type": "stream",
          "name": "stdout",
          "text": [
            "Report generated: data_analysis.pdf\n"
          ]
        }
      ]
    }
  ]
}